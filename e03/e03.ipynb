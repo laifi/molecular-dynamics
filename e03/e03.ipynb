{
 "cells": [
  {
   "cell_type": "code",
   "execution_count": null,
   "metadata": {},
   "outputs": [],
   "source": [
    "%load_ext autoreload"
   ]
  },
  {
   "cell_type": "code",
   "execution_count": null,
   "metadata": {},
   "outputs": [],
   "source": [
    "%autoreload 2"
   ]
  },
  {
   "cell_type": "code",
   "execution_count": null,
   "metadata": {},
   "outputs": [],
   "source": [
    "import numpy as np\n",
    "import matplotlib.pyplot as plt\n",
    "# import md"
   ]
  },
  {
   "cell_type": "markdown",
   "metadata": {},
   "source": [
    "# 3.1 Harmonic Oscillator"
   ]
  },
  {
   "cell_type": "markdown",
   "metadata": {},
   "source": [
    "1. Wave number is a measure of cycles per unit distance. I.e. number of waves per unit distance. Wave number $\\nu$ is defined as,\n",
    "\\begin{equation}\n",
    "    \\nu = \\frac{1}{\\lambda},\n",
    "\\end{equation}\n",
    "with $\\lambda$ meaning wavelength, usually in cm. With this equation we can find the conversion to frequency, $f$, angular frequency, $w$, and vibration period $T$.\n",
    "\\begin{align}\n",
    "    f &= c \\nu \\\\\n",
    "    w &= \\frac{c \\nu}{2 \\pi} \\\\\n",
    "    T &= \\frac{1}{c \\nu}\n",
    "\\end{align}"
   ]
  },
  {
   "cell_type": "code",
   "execution_count": null,
   "metadata": {},
   "outputs": [],
   "source": [
    "def wavenumber_to_f_w_T(wavenumber):\n",
    "    \"\"\"Give wavenumber in units of (cm)^{-1.}\"\"\"\n",
    "    c = 29979245800 # cm/s\n",
    "    f = c * wavenumber\n",
    "    w = f / (2 * np.pi)\n",
    "    T = 1/f\n",
    "    return f, w, T"
   ]
  },
  {
   "cell_type": "code",
   "execution_count": null,
   "metadata": {},
   "outputs": [],
   "source": [
    "wavenumbers = {\n",
    "    'c-h': 2100,\n",
    "    'c-d': 1000,\n",
    "    'c=c': 1700,\n",
    "    'c#c': 2200\n",
    "}"
   ]
  },
  {
   "cell_type": "code",
   "execution_count": null,
   "metadata": {},
   "outputs": [],
   "source": [
    "for key, wavenumber in wavenumbers.items():\n",
    "    f, w, T = wavenumber_to_f_w_T(wavenumber)\n",
    "    print(f\"{key}: f = {f:0.2E} s^{-1}, \"\n",
    "          f\"w = {w:0.2E} s^{-1}, \"\n",
    "          f\"T = {T:0.2E} s\")"
   ]
  },
  {
   "cell_type": "markdown",
   "metadata": {},
   "source": [
    "2. Reduced mass is defined as, \n",
    "\\begin{equation}\n",
    "    \\mu = \\frac{m_{1}m_{2}}{m_1 + m_2}.\n",
    "\\end{equation}\n",
    "The motion of two bonded particles can be redefined as an oscilation of a single particle with a reduced mass. That single particle oscilates around a characteristic bond length. In our system, this implies that the differential equation defining the behavior is,\n",
    "\\begin{equation}\n",
    "    \\mu \\ddot{r} = -kr.\n",
    "\\end{equation}\n",
    "This implies that the angular frequency, $w$, is related to k by,\n",
    "\\begin{equation}\n",
    "    w = 4.12 \\sqrt{\\frac{k}{\\mu}}.\n",
    "\\end{equation}\n",
    "The 4.12 is added because spring constants on the molecular scale are usually reported in dynes/cm rather than N/m. This allows us to use atomic mass units for $\\mu$ and cm$^{-1}$ for $\\nu$."
   ]
  },
  {
   "cell_type": "code",
   "execution_count": null,
   "metadata": {},
   "outputs": [],
   "source": [
    "atm_ms = {\n",
    "    'c': 12.0107,\n",
    "    'd': 2.0136,\n",
    "    'h': 1.0078\n",
    "} # reported in atomic mass units.\n",
    "\n",
    "reduce_mass = lambda x, y: x*y/(x+y)\n",
    "\n",
    "reduced_masses = {\n",
    "    'c-h': reduce_mass(atm_ms['c'], atm_ms['h']),\n",
    "    'c-d': reduce_mass(atm_ms['c'], atm_ms['d']),\n",
    "    'c=c': reduce_mass(atm_ms['c'], atm_ms['c']),\n",
    "    'c#c': reduce_mass(atm_ms['c'], atm_ms['c'])\n",
    "}"
   ]
  },
  {
   "cell_type": "code",
   "execution_count": null,
   "metadata": {},
   "outputs": [],
   "source": []
  }
 ],
 "metadata": {
  "kernelspec": {
   "display_name": "Python 3",
   "language": "python",
   "name": "python3"
  },
  "language_info": {
   "codemirror_mode": {
    "name": "ipython",
    "version": 3
   },
   "file_extension": ".py",
   "mimetype": "text/x-python",
   "name": "python",
   "nbconvert_exporter": "python",
   "pygments_lexer": "ipython3",
   "version": "3.7.3"
  }
 },
 "nbformat": 4,
 "nbformat_minor": 2
}
