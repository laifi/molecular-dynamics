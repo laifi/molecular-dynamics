{
 "cells": [
  {
   "cell_type": "code",
   "execution_count": null,
   "metadata": {},
   "outputs": [],
   "source": [
    "%load_ext autoreload"
   ]
  },
  {
   "cell_type": "code",
   "execution_count": null,
   "metadata": {},
   "outputs": [],
   "source": [
    "%autoreload 2"
   ]
  },
  {
   "cell_type": "code",
   "execution_count": null,
   "metadata": {},
   "outputs": [],
   "source": [
    "import numpy as np\n",
    "import matplotlib.pyplot as plt\n",
    "import pandas as pd\n",
    "# import md"
   ]
  },
  {
   "cell_type": "markdown",
   "metadata": {},
   "source": [
    "# 3.1 Harmonic Oscillator"
   ]
  },
  {
   "cell_type": "markdown",
   "metadata": {},
   "source": [
    "1. Wave number is a measure of cycles per unit distance. I.e. number of waves per unit distance. Wave number $\\nu$ is defined as,\n",
    "\\begin{equation}\n",
    "    \\nu = \\frac{1}{\\lambda},\n",
    "\\end{equation}\n",
    "with $\\lambda$ meaning wavelength, usually in cm. With this equation we can find the conversion to frequency, $f$, angular frequency, $w$, and vibration period $T$.\n",
    "\\begin{align}\n",
    "    f &= c \\nu \\\\\n",
    "    w &= \\frac{c \\nu}{2 \\pi} \\\\\n",
    "    T &= \\frac{1}{c \\nu}\n",
    "\\end{align}"
   ]
  },
  {
   "cell_type": "code",
   "execution_count": null,
   "metadata": {},
   "outputs": [],
   "source": [
    "def wavenumber_to_f_w_T(wavenumber):\n",
    "    \"\"\"Give wavenumber in units of (cm)^{-1.}\"\"\"\n",
    "    c = 29979245800 # cm/s\n",
    "    f = c * wavenumber\n",
    "    w = f / (2 * np.pi)\n",
    "    T = 1/f\n",
    "    return f, w, T"
   ]
  },
  {
   "cell_type": "code",
   "execution_count": null,
   "metadata": {},
   "outputs": [],
   "source": [
    "wavenumbers = {\n",
    "    'c-h': 3000,\n",
    "    'c-d': 2100,\n",
    "    'c-c': 1000,\n",
    "    'c=c': 1700,\n",
    "    'c#c': 2200\n",
    "}"
   ]
  },
  {
   "cell_type": "code",
   "execution_count": null,
   "metadata": {},
   "outputs": [],
   "source": [
    "angular_freqs = {}\n",
    "freqs = {}\n",
    "periods = {}\n",
    "\n",
    "for key, wavenumber in wavenumbers.items():\n",
    "    f, w, T = wavenumber_to_f_w_T(wavenumber)\n",
    "    freqs[key] = f\n",
    "    angular_freqs[key] = w\n",
    "    periods[key] = T\n",
    "    print(f\"{key}: \\t f = {f:0.2E} s^{-1}, \\n\"\n",
    "          f\"\\t w = {w:0.2E} s^{-1}, \\n\"\n",
    "          f\"\\t T = {T:0.2E} s\")"
   ]
  },
  {
   "cell_type": "markdown",
   "metadata": {},
   "source": [
    "2. Reduced mass is defined as, \n",
    "\\begin{equation}\n",
    "    \\mu = \\frac{m_{1}m_{2}}{m_1 + m_2}.\n",
    "\\end{equation}\n",
    "The motion of two bonded particles can be redefined as an oscilation of a single particle with a reduced mass. That single particle oscilates around a characteristic bond length. In our system, this implies that the differential equation defining the behavior is,\n",
    "\\begin{equation}\n",
    "    \\mu \\ddot{r} = -kr.\n",
    "\\end{equation}\n",
    "This implies that the angular frequency, $w$, is related to $k$ by,\n",
    "\\begin{equation}\n",
    "    w = \\sqrt{\\frac{k}{\\mu}}.\n",
    "\\end{equation}"
   ]
  },
  {
   "cell_type": "code",
   "execution_count": null,
   "metadata": {},
   "outputs": [],
   "source": [
    "def reduce_mass(x, y):\n",
    "    return x*y/(x+y)\n",
    "\n",
    "def spring_constant(w, mu):\n",
    "    return mu * (w)**2"
   ]
  },
  {
   "cell_type": "code",
   "execution_count": null,
   "metadata": {},
   "outputs": [],
   "source": [
    "kg_per_u = 1.661E-27\n",
    "\n",
    "atm_ms = {\n",
    "    'c': 12.0107 * kg_per_u,\n",
    "    'd': 2.0136 * kg_per_u,\n",
    "    'h': 1.0078 * kg_per_u\n",
    "}\n",
    "\n",
    "reduced_masses = {\n",
    "    'c-h': reduce_mass(atm_ms['c'], atm_ms['h']),\n",
    "    'c-d': reduce_mass(atm_ms['c'], atm_ms['d']),\n",
    "    'c-c': reduce_mass(atm_ms['c'], atm_ms['c']),\n",
    "    'c=c': reduce_mass(atm_ms['c'], atm_ms['c']),\n",
    "    'c#c': reduce_mass(atm_ms['c'], atm_ms['c'])\n",
    "}"
   ]
  },
  {
   "cell_type": "code",
   "execution_count": null,
   "metadata": {},
   "outputs": [],
   "source": [
    "spring_constants = {}\n",
    "for key, redu_m in reduced_masses.items():\n",
    "    k = spring_constant(angular_freqs[key], redu_m)\n",
    "    spring_constants[key] = k\n",
    "    print(f\"{key}: k = {k:0.3f}\")"
   ]
  },
  {
   "cell_type": "code",
   "execution_count": null,
   "metadata": {},
   "outputs": [],
   "source": [
    "df = pd.DataFrame([wavenumbers, freqs, angular_freqs, periods, reduced_masses, spring_constants], \n",
    "                  index=['wavenumber', 'frequency', 'angular frequency', 'period', 'reduced mass','spring constant']).T"
   ]
  },
  {
   "cell_type": "code",
   "execution_count": null,
   "metadata": {},
   "outputs": [],
   "source": [
    "df.T"
   ]
  },
  {
   "cell_type": "markdown",
   "metadata": {},
   "source": [
    "3. We can compare the effects of reduced mass, $\\mu$, by comparing all the single bonded examples, i.e. c-c, c-h, and c-d. In the figure below, increasing reduced mass, $\\mu$, leads to a decreased vibrational frequency. Notice that the relationship seems to be nonlinear."
   ]
  },
  {
   "cell_type": "code",
   "execution_count": null,
   "metadata": {
    "scrolled": true
   },
   "outputs": [],
   "source": [
    "fig, ax = plt.subplots()\n",
    "\n",
    "for key in ['c-c', 'c-d', 'c-h']:\n",
    "    x = df.loc[key]['reduced mass']\n",
    "    y = df.loc[key]['frequency']\n",
    "    ax.scatter(x, y)\n",
    "    ax.annotate(key, xy=(x, y), xytext=(x, y))\n",
    "    \n",
    "ax.set_title('single bonded case')\n",
    "ax.set_xlim(0e-27, 12e-27)\n",
    "ax.set_xlabel('reduced mass kg')\n",
    "ax.set_ylabel('frequency s^-1');"
   ]
  },
  {
   "cell_type": "markdown",
   "metadata": {},
   "source": [
    "3. (cont.) We can compare the effects of bond strength by considering the carbon to carbon bonds. These bonds all have the same reduced mass, but a different bond strength. In the figure below, increasing spring constant (which is a stand in for bond strength) linearly increases the frequency."
   ]
  },
  {
   "cell_type": "code",
   "execution_count": null,
   "metadata": {},
   "outputs": [],
   "source": [
    "fig, ax = plt.subplots()\n",
    "\n",
    "for key in ['c-c', 'c=c', 'c#c']:\n",
    "    x = df.loc[key]['spring constant']\n",
    "    y = df.loc[key]['frequency']\n",
    "    ax.scatter(x, y)\n",
    "    ax.annotate(key, xy=(x, y), xytext=(x, y))\n",
    "    \n",
    "ax.set_title('single bonded case')\n",
    "ax.set_xlabel('spring constant N/m')\n",
    "ax.set_ylabel('frequency s^-1');"
   ]
  },
  {
   "cell_type": "markdown",
   "metadata": {},
   "source": [
    "# 3.2 Integration of the equation of motion"
   ]
  },
  {
   "cell_type": "markdown",
   "metadata": {},
   "source": [
    "1. Blah blah blah..."
   ]
  },
  {
   "cell_type": "code",
   "execution_count": null,
   "metadata": {},
   "outputs": [],
   "source": []
  },
  {
   "cell_type": "markdown",
   "metadata": {},
   "source": [
    "2. Blah blah blah..."
   ]
  },
  {
   "cell_type": "code",
   "execution_count": null,
   "metadata": {},
   "outputs": [],
   "source": []
  },
  {
   "cell_type": "markdown",
   "metadata": {},
   "source": [
    "3. Blah blah blah..."
   ]
  },
  {
   "cell_type": "code",
   "execution_count": null,
   "metadata": {},
   "outputs": [],
   "source": []
  },
  {
   "cell_type": "markdown",
   "metadata": {},
   "source": [
    "4. Blah blah blah..."
   ]
  },
  {
   "cell_type": "code",
   "execution_count": null,
   "metadata": {},
   "outputs": [],
   "source": []
  },
  {
   "cell_type": "markdown",
   "metadata": {},
   "source": [
    "5. Blah blah blah..."
   ]
  },
  {
   "cell_type": "code",
   "execution_count": null,
   "metadata": {},
   "outputs": [],
   "source": []
  },
  {
   "cell_type": "markdown",
   "metadata": {},
   "source": [
    "6. Blah blah blah..."
   ]
  },
  {
   "cell_type": "code",
   "execution_count": null,
   "metadata": {},
   "outputs": [],
   "source": []
  }
 ],
 "metadata": {
  "kernelspec": {
   "display_name": "Python 3",
   "language": "python",
   "name": "python3"
  },
  "language_info": {
   "codemirror_mode": {
    "name": "ipython",
    "version": 3
   },
   "file_extension": ".py",
   "mimetype": "text/x-python",
   "name": "python",
   "nbconvert_exporter": "python",
   "pygments_lexer": "ipython3",
   "version": "3.7.3"
  }
 },
 "nbformat": 4,
 "nbformat_minor": 2
}
