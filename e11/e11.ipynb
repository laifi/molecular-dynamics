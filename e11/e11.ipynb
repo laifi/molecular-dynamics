{
 "cells": [
  {
   "cell_type": "code",
   "execution_count": null,
   "metadata": {},
   "outputs": [],
   "source": [
    "import numpy as np\n",
    "import matplotlib.pyplot as plt"
   ]
  },
  {
   "cell_type": "markdown",
   "metadata": {},
   "source": [
    "# Cluster Algorithms"
   ]
  },
  {
   "cell_type": "markdown",
   "metadata": {},
   "source": [
    "## k-means\n",
    "1) Implement k-means with a maximum iteration setting and a convergence criterion."
   ]
  },
  {
   "cell_type": "code",
   "execution_count": null,
   "metadata": {},
   "outputs": [],
   "source": [
    "def kmeans(x: np.ndarray, k: int,\n",
    "           maxiter: int = 1000, rtol: float = 1e-3, atol: float = 1e-7):\n",
    "    assert data.shape[1] == 2\n",
    "    inds = np.random.choice(range(len(x)), size=k, replace=False)\n",
    "    means = x[inds]\n",
    "    for _ in range(maxiter):\n",
    "        # Assignment\n",
    "        dist = np.linalg.norm(x[None, ...] - means[:, None, :], axis=-1)\n",
    "        labels = np.argmin(dist, axis=0)\n",
    "        # Update\n",
    "        new_means = []\n",
    "        for i in range(k):\n",
    "            new_means.append(np.mean(x[labels == i], axis=0))\n",
    "        new_means = np.asarray(new_means)\n",
    "        # Convergence\n",
    "        if np.all(np.isclose(new_means, means, rtol=rtol, atol=atol)):\n",
    "            break\n",
    "        means = new_means\n",
    "    return means, labels"
   ]
  },
  {
   "cell_type": "code",
   "execution_count": null,
   "metadata": {},
   "outputs": [],
   "source": [
    "data = np.load(\"p12.npy\")\n",
    "data.shape"
   ]
  },
  {
   "cell_type": "code",
   "execution_count": null,
   "metadata": {},
   "outputs": [],
   "source": [
    "kmeans(data, 2)"
   ]
  },
  {
   "cell_type": "markdown",
   "metadata": {},
   "source": [
    "2) We will plot the clustering. Note that the results will not be reproducible exactly, unless the random seed is set, because this k-means algorithm does not necessairly find the optimum."
   ]
  },
  {
   "cell_type": "code",
   "execution_count": null,
   "metadata": {},
   "outputs": [],
   "source": [
    "colors = ['r', 'c', 'g', 'm']"
   ]
  },
  {
   "cell_type": "code",
   "execution_count": null,
   "metadata": {},
   "outputs": [],
   "source": [
    "np.random.seed(0)\n",
    "k = 2\n",
    "means, labels = kmeans(data, k)\n",
    "\n",
    "fig, ax = plt.subplots()\n",
    "for i, c in enumerate(colors[:k]):\n",
    "    ax.scatter(*data[labels == i].T, marker='o', c=c, alpha=0.25)\n",
    "    ax.scatter(*means[i].T, s=100, marker='*', c='k')\n",
    "fig.show()"
   ]
  },
  {
   "cell_type": "code",
   "execution_count": null,
   "metadata": {},
   "outputs": [],
   "source": [
    "# SAME ONE TWICE TO SHOW THAT IT IS NOT REPRODUCIBLE\n",
    "np.random.seed(1)\n",
    "k = 2\n",
    "means, labels = kmeans(data, k)\n",
    "\n",
    "fig, ax = plt.subplots()\n",
    "for i, c in enumerate(colors[:k]):\n",
    "    ax.scatter(*data[labels == i].T, marker='o', c=c, alpha=0.25)\n",
    "    ax.scatter(*means[i].T, s=100, marker='*', c='k')\n",
    "fig.show()"
   ]
  },
  {
   "cell_type": "code",
   "execution_count": null,
   "metadata": {},
   "outputs": [],
   "source": [
    "k = 3\n",
    "means, labels = kmeans(data, k)\n",
    "\n",
    "fig, ax = plt.subplots()\n",
    "for i, c in enumerate(['r', 'c', 'g', 'm'][:k]):\n",
    "    ax.scatter(*data[labels == i].T, marker='o', c=c, alpha=0.25)\n",
    "    ax.scatter(*means[i].T, s=100, marker='*', c='k')\n",
    "fig.show()"
   ]
  },
  {
   "cell_type": "code",
   "execution_count": null,
   "metadata": {},
   "outputs": [],
   "source": [
    "k = 4\n",
    "means, labels = kmeans(data, k)\n",
    "\n",
    "fig, ax = plt.subplots()\n",
    "for i, c in enumerate(['r', 'c', 'g', 'm'][:k]):\n",
    "    ax.scatter(*data[labels == i].T, marker='o', c=c, alpha=0.25)\n",
    "    ax.scatter(*means[i].T, s=100, marker='*', c='k')\n",
    "fig.show()"
   ]
  },
  {
   "cell_type": "code",
   "execution_count": null,
   "metadata": {},
   "outputs": [],
   "source": []
  }
 ],
 "metadata": {
  "kernelspec": {
   "display_name": "Python 3",
   "language": "python",
   "name": "python3"
  },
  "language_info": {
   "codemirror_mode": {
    "name": "ipython",
    "version": 3
   },
   "file_extension": ".py",
   "mimetype": "text/x-python",
   "name": "python",
   "nbconvert_exporter": "python",
   "pygments_lexer": "ipython3",
   "version": "3.7.3"
  }
 },
 "nbformat": 4,
 "nbformat_minor": 2
}
