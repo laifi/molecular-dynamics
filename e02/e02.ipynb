{
 "cells": [
  {
   "cell_type": "code",
   "execution_count": null,
   "metadata": {},
   "outputs": [],
   "source": [
    "import numpy as np\n",
    "import matplotlib.pyplot as plt\n",
    "\n",
    "from md.plotting import savefig, contour"
   ]
  },
  {
   "cell_type": "code",
   "execution_count": null,
   "metadata": {},
   "outputs": [],
   "source": [
    "def u(x, y):\n",
    "    return (x - y)**4 + 2 * x**2 + y ** 2 - x + 2 *y\n",
    "\n",
    "def g(x, y):\n",
    "    return np.array([4 * (x-y)**3 + 4 * x - 1,\n",
    "                     -4 *(x-y)**3 + 2 * y + 2 ])\n",
    "\n",
    "def h(x, y):\n",
    "    return np.array([12 * (x-y) ** 2 + 4,\n",
    "                     -12 * (x-y) ** 2,\n",
    "                     -12 * (x-y) ** 2,\n",
    "                     12 * (x-y) ** 2 + 2]).reshape((2,2))\n",
    "\n",
    "uu = lambda x: u(x[0], x[1])\n",
    "gg = lambda x: g(x[0], x[1])"
   ]
  },
  {
   "cell_type": "code",
   "execution_count": null,
   "metadata": {},
   "outputs": [],
   "source": [
    "def gradient_descent(f, df, x, \n",
    "                     rate=0.09, precision=1e-10, max_iters=1000):\n",
    "    steps = [x]\n",
    "    next_x = x\n",
    "    \n",
    "    for i in range(max_iters):\n",
    "        current_x = next_x\n",
    "        next_x = current_x - rate * df(current_x)\n",
    "        steps.append(next_x)\n",
    "        \n",
    "        step = f(next_x) - f(current_x)\n",
    "        if abs(step) <= precision:\n",
    "            break\n",
    "        elif np.isnan(step) or np.isinf(step):\n",
    "            break\n",
    "    return np.asarray(steps)"
   ]
  },
  {
   "cell_type": "code",
   "execution_count": null,
   "metadata": {},
   "outputs": [],
   "source": [
    "eps = lambda x: abs(uu(x[-1]) - uu(x[-2]))"
   ]
  },
  {
   "cell_type": "markdown",
   "metadata": {},
   "source": [
    "# Question 2"
   ]
  },
  {
   "cell_type": "code",
   "execution_count": null,
   "metadata": {},
   "outputs": [],
   "source": [
    "x11 = gradient_descent(uu, gg, np.array([1, 1]))\n",
    "print(len(x11), x11[-1], eps(x11))"
   ]
  },
  {
   "cell_type": "code",
   "execution_count": null,
   "metadata": {},
   "outputs": [],
   "source": [
    "fig, ax = contour(u)\n",
    "ax.plot(*x11.T, c='red')\n",
    "\n",
    "ax.set_title('Gradient Descent starting at (1, 1)')\n",
    "ax.set_xlabel('x')\n",
    "ax.set_ylabel('y')\n",
    "savefig(fig, 'grad_descent_11.png')\n",
    "plt.show()"
   ]
  },
  {
   "cell_type": "code",
   "execution_count": null,
   "metadata": {},
   "outputs": [],
   "source": [
    "x00 = gradient_descent(uu, gg, np.array([0, 0]))\n",
    "print(len(x00), x00[-1], eps(x00))"
   ]
  },
  {
   "cell_type": "code",
   "execution_count": null,
   "metadata": {},
   "outputs": [],
   "source": [
    "fig, ax = contour(u)\n",
    "ax.plot(*x00.T, c='red')\n",
    "\n",
    "ax.set_title('Gradient Descent starting at (0, 0)')\n",
    "ax.set_xlabel('x')\n",
    "ax.set_ylabel('y')\n",
    "savefig(fig, 'grad_descent_00.png')\n",
    "plt.show()"
   ]
  },
  {
   "cell_type": "code",
   "execution_count": null,
   "metadata": {},
   "outputs": [],
   "source": [
    "x33 = gradient_descent(uu, gg, np.array([-0.3, 3]))\n",
    "print(len(x33), x33[-1], eps(x33))"
   ]
  },
  {
   "cell_type": "code",
   "execution_count": null,
   "metadata": {},
   "outputs": [],
   "source": [
    "fig, ax = contour(u, xlim=(-3, 3), ylim=(-3, 3))\n",
    "ax.plot(*x33[:-4].T, c='red')\n",
    "\n",
    "ax.set_title('Gradient Descent starting at (-0.3, 3)')\n",
    "ax.set_xlabel('x')\n",
    "ax.set_ylabel('y')\n",
    "savefig(fig, 'grad_descent_33.png')\n",
    "plt.show()"
   ]
  },
  {
   "cell_type": "markdown",
   "metadata": {},
   "source": [
    "# Question 3"
   ]
  },
  {
   "cell_type": "code",
   "execution_count": null,
   "metadata": {},
   "outputs": [],
   "source": [
    "x11 = gradient_descent(uu, gg, np.array([1, 1]), rate=0.25)\n",
    "print(len(x11), x11[-1], eps(x11))"
   ]
  },
  {
   "cell_type": "code",
   "execution_count": null,
   "metadata": {},
   "outputs": [],
   "source": [
    "fig, ax = contour(u)\n",
    "ax.plot(*x11.T, c='red')\n",
    "\n",
    "ax.set_title('Gradient Descent with tau 0.25')\n",
    "ax.set_xlabel('x')\n",
    "ax.set_ylabel('y')\n",
    "savefig(fig, 'grad_tau_25.png')\n",
    "plt.show()"
   ]
  },
  {
   "cell_type": "code",
   "execution_count": null,
   "metadata": {},
   "outputs": [],
   "source": [
    "x11 = gradient_descent(uu, gg, np.array([1, 1]), rate=0.2)\n",
    "print(len(x11), x11[-1], eps(x11))"
   ]
  },
  {
   "cell_type": "code",
   "execution_count": null,
   "metadata": {},
   "outputs": [],
   "source": [
    "fig, ax = contour(u)\n",
    "ax.plot(*x11.T, c='red')\n",
    "\n",
    "ax.set_title('Gradient Descent with tau 0.2')\n",
    "ax.set_xlabel('x')\n",
    "ax.set_ylabel('y')\n",
    "savefig(fig, 'grad_tau_25.png')\n",
    "plt.show()"
   ]
  },
  {
   "cell_type": "code",
   "execution_count": null,
   "metadata": {},
   "outputs": [],
   "source": [
    "x11 = gradient_descent(uu, gg, np.array([1, 1]), rate=0.009)\n",
    "print(len(x11), x11[-1], eps(x11))"
   ]
  },
  {
   "cell_type": "code",
   "execution_count": null,
   "metadata": {},
   "outputs": [],
   "source": [
    "fig, ax = contour(u)\n",
    "ax.plot(*x11.T, c='red')\n",
    "\n",
    "ax.set_title('Gradient Descent with tau 0.009')\n",
    "ax.set_xlabel('x')\n",
    "ax.set_ylabel('y')\n",
    "savefig(fig, 'grad_tau_25.png')\n",
    "plt.show()"
   ]
  },
  {
   "cell_type": "markdown",
   "metadata": {},
   "source": [
    "# Question 4"
   ]
  },
  {
   "cell_type": "code",
   "execution_count": null,
   "metadata": {},
   "outputs": [],
   "source": []
  },
  {
   "cell_type": "markdown",
   "metadata": {},
   "source": [
    "# Question 5\n",
    "\n",
    "This part is distributed throughout."
   ]
  },
  {
   "cell_type": "code",
   "execution_count": null,
   "metadata": {},
   "outputs": [],
   "source": []
  }
 ],
 "metadata": {
  "kernelspec": {
   "display_name": "Python 3",
   "language": "python",
   "name": "python3"
  },
  "language_info": {
   "codemirror_mode": {
    "name": "ipython",
    "version": 3
   },
   "file_extension": ".py",
   "mimetype": "text/x-python",
   "name": "python",
   "nbconvert_exporter": "python",
   "pygments_lexer": "ipython3",
   "version": "3.7.1"
  }
 },
 "nbformat": 4,
 "nbformat_minor": 2
}
