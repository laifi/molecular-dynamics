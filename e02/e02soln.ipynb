{
 "cells": [
  {
   "cell_type": "markdown",
   "metadata": {
    "ExecuteTime": {
     "end_time": "2019-04-30T12:35:21.949614Z",
     "start_time": "2019-04-30T12:35:21.944297Z"
    }
   },
   "source": [
    "<h2><center>Exercise 02</center>\n",
    "    \n",
    "<center>Potential energy minimisation</center>\n",
    "\n",
    "<center>short</center></h2>"
   ]
  },
  {
   "cell_type": "markdown",
   "metadata": {},
   "source": [
    "2.1 Energy surface"
   ]
  },
  {
   "cell_type": "markdown",
   "metadata": {
    "ExecuteTime": {
     "end_time": "2019-04-30T12:37:10.074938Z",
     "start_time": "2019-04-30T12:37:10.061647Z"
    }
   },
   "source": [
    "Consider a function given by\n",
    "\n",
    "\\begin{equation}\n",
    "\tU\\left(x,y\\right) = \\left( x- y \\right)^4 + 2 x^2 + y^2 - x + 2y\n",
    "\\end{equation}"
   ]
  },
  {
   "cell_type": "markdown",
   "metadata": {},
   "source": [
    "2.1.1 Calculate the gradient and the hessian matrix of $U\\left(x,y\\right)$."
   ]
  },
  {
   "cell_type": "markdown",
   "metadata": {},
   "source": [
    "2.1.2 Write a Python-script that finds a local minimum of the function by the steepest\n",
    "decent method. Please use section 2.2.3 and equation 2.8 (page 45/46 in the script)\n",
    "as orientation. The algorithm should stop, when the energy correction (eps) is\n",
    "smaller than $10^{-10}$ or the number of iteration steps n reaches 1000. Show a table for\n",
    "the starting points (1, 1), (0, 0) and (−0.3, 3), which holds the number of iterations\n",
    "n and the corresponding eps. Choose $\\tau = 0.09$.\n",
    "\n",
    "General minimisation approach:\n",
    "$$ q_{k+1} = q_k + \\tau_k d_k $$\n",
    "\n",
    "#### Steepest decent\n",
    "\n",
    "Direction for minimisation along the gradient:\n",
    "$$ d_k = -g_k $$\n",
    "$$ q_{k+1} = q_k - \\tau g_k $$"
   ]
  },
  {
   "cell_type": "markdown",
   "metadata": {},
   "source": [
    "2.1.3 Create another table for the starting point (1, 1) and choose three different values\n",
    "for $\\tau$."
   ]
  },
  {
   "cell_type": "markdown",
   "metadata": {
    "ExecuteTime": {
     "end_time": "2019-04-30T13:08:42.369624Z",
     "start_time": "2019-04-30T13:08:42.363716Z"
    }
   },
   "source": [
    "2.1.4 Repeat task 2., but this time for the conjugate gradient method (page 47 in the\n",
    "script).\n",
    "\n",
    "#### Conjugate gradient\n",
    "\n",
    "Direction for minimisation is determined by considering the direction and gradient used in the last step (first step needs to use a different algorithm).\n",
    "\n",
    "$$ d_k = −g_k + \\beta_k d_{k−1} $$\n",
    "\n",
    "Expression for $\\beta$ (Fletcher-Reeves):\n",
    "$$ \\beta_k = \\frac{g_k^\\mathrm{T} g_k}{g_{k-1}^\\mathrm{T} g_{k-1}^\\mathrm{\\phantom{T}}} $$\n",
    "\n",
    "2.1.5 Draw for each of the starting points the sequence of iteration points into a contour\n",
    "diagram of the minimised function.\n"
   ]
  },
  {
   "cell_type": "code",
   "execution_count": 40,
   "metadata": {
    "ExecuteTime": {
     "end_time": "2019-05-02T08:58:31.050550Z",
     "start_time": "2019-05-02T08:58:31.039852Z"
    }
   },
   "outputs": [],
   "source": [
    "%matplotlib notebook\n",
    "%matplotlib notebook\n",
    "import numpy as np\n",
    "import matplotlib.pyplot as plt\n",
    "from matplotlib import cm\n",
    "from mpl_toolkits.mplot3d import Axes3D\n",
    "import pandas as pd\n",
    "import sys\n"
   ]
  },
  {
   "cell_type": "code",
   "execution_count": 3,
   "metadata": {
    "ExecuteTime": {
     "end_time": "2019-04-30T12:52:40.244989Z",
     "start_time": "2019-04-30T12:52:40.239198Z"
    }
   },
   "outputs": [],
   "source": [
    "def U(q):\n",
    "    # 2D-potential\n",
    "    return (q[0] - q[1])**4 + 2*q[0]**2 + q[1]**2 - q[0] + 2*q[1]"
   ]
  },
  {
   "cell_type": "code",
   "execution_count": 6,
   "metadata": {
    "ExecuteTime": {
     "end_time": "2019-04-30T12:53:58.311629Z",
     "start_time": "2019-04-30T12:53:58.306843Z"
    }
   },
   "outputs": [],
   "source": [
    "def gradient(q):\n",
    "    # gradient of U\n",
    "    return (4 * (q[0] - q[1])**3 + 4*q[0] - 1,\n",
    "            - 4 * (q[0] - q[1])**3 + 2*q[1] + 2)"
   ]
  },
  {
   "cell_type": "code",
   "execution_count": 7,
   "metadata": {
    "ExecuteTime": {
     "end_time": "2019-04-30T12:54:06.763760Z",
     "start_time": "2019-04-30T12:54:06.757605Z"
    }
   },
   "outputs": [],
   "source": [
    "def hessian(q):\n",
    "    #hessian of U\n",
    "    return (( 12*(q[0] - q[1])**2 + 4,  -12*(q[0] - q[1])**2 ),\n",
    "             ( -12*(q[0] - q[1])**2, 12*(q[0] - q[1])**2 + 2))"
   ]
  },
  {
   "cell_type": "code",
   "execution_count": 4,
   "metadata": {
    "ExecuteTime": {
     "end_time": "2019-04-30T12:52:40.678271Z",
     "start_time": "2019-04-30T12:52:40.672969Z"
    }
   },
   "outputs": [],
   "source": [
    "# genrate data points along this potential\n",
    "rx = np.linspace(-3, 3, 61)\n",
    "ry = np.linspace(-3, 3, 61)\n",
    "RX, RY = np.meshgrid(rx, ry)\n",
    "Z = U((RX, RY))"
   ]
  },
  {
   "cell_type": "markdown",
   "metadata": {},
   "source": [
    "General minimisation approach:\n",
    "$$ q_{k+1} = q_k + \\tau_k d_k $$\n",
    "\n",
    "#### Steepest decent\n",
    "\n",
    "Direction for minimisation along the gradient:\n",
    "$$ d_k = -g_k $$\n",
    "$$ q_{k+1} = q_k - \\tau g_k $$"
   ]
  },
  {
   "cell_type": "code",
   "execution_count": 10,
   "metadata": {
    "ExecuteTime": {
     "end_time": "2019-04-30T13:00:57.723980Z",
     "start_time": "2019-04-30T13:00:57.717612Z"
    }
   },
   "outputs": [],
   "source": [
    "def steep(q, tau):\n",
    "    \"\"\"takes a current position q,\n",
    "    modifies this position by a translation along the gradient\n",
    "    using a step scale factor tau\n",
    "    and returns the new postion.\n",
    "    \"\"\"\n",
    "    g = gradient(q)\n",
    "    return (q[0] - tau*g[0], q[1] - tau*g[1])"
   ]
  },
  {
   "cell_type": "markdown",
   "metadata": {},
   "source": [
    "#### Conjugate gradient\n",
    "\n",
    "Direction for minimisation is determined by considering the direction and gradient used in the last step (first step needs to use a different algorithm).\n",
    "\n",
    "$$ d_k = −g_k + \\beta_k d_{k−1} $$\n",
    "\n",
    "Expression for $\\beta$ (Fletcher-Reeves):\n",
    "$$ \\beta_k = \\frac{g_k^\\mathrm{T} g_k}{g_{k-1}^\\mathrm{T} g_{k-1}^\\mathrm{\\phantom{T}}} $$"
   ]
  },
  {
   "cell_type": "code",
   "execution_count": 9,
   "metadata": {
    "ExecuteTime": {
     "end_time": "2019-04-30T12:58:53.915253Z",
     "start_time": "2019-04-30T12:58:53.908299Z"
    }
   },
   "outputs": [],
   "source": [
    "def cg(q, d, g, tau):\n",
    "    gn = gradient(q)\n",
    "    beta = np.dot(gn, gn) / np.dot(g, g)\n",
    "    dn = (-gn[0] + beta*d[0], -gn[1] + beta*d[1] )\n",
    "    return (q[0] + tau*dn[0], q[1] + tau*dn[1]), dn, gn"
   ]
  },
  {
   "cell_type": "code",
   "execution_count": 11,
   "metadata": {
    "ExecuteTime": {
     "end_time": "2019-04-30T13:04:42.983196Z",
     "start_time": "2019-04-30T13:04:42.966021Z"
    }
   },
   "outputs": [],
   "source": [
    "def minimize(q, emtol = 10e-10,\n",
    "             nsteps = 1000, tau = 0.09,\n",
    "             algorithm='steep'):\n",
    "    energy = [U(q)]; Q = [q]; eps = ['start'] # initialise output\n",
    "    current_eps = np.inf\n",
    "    count = 0\n",
    "    if algorithm == 'steep':\n",
    "        while current_eps > emtol and count < nsteps:\n",
    "            q = steep(q, tau)\n",
    "            Q.append(q)\n",
    "            energy.append(U(q))\n",
    "            current_eps = energy[-2] - energy[-1]\n",
    "            eps.append(current_eps)\n",
    "            count += 1\n",
    "        \n",
    "    elif algorithm == 'cg':\n",
    "        g = gradient(q); d = (-g[0], -g[1])\n",
    "        q = steep(q, tau) # One steepest decent step\n",
    "        Q.append(q)\n",
    "        energy.append(U(q))\n",
    "        current_eps = energy[-2] - energy[-1]\n",
    "        eps.append(current_eps)\n",
    "        count += 1   \n",
    "        while current_eps > emtol and count < nsteps:\n",
    "            q, d, g = cg(q, d, g, tau)\n",
    "            Q.append(q)\n",
    "            energy.append(U(q))\n",
    "            current_eps = energy[-2] - energy[-1]\n",
    "            eps.append(current_eps)\n",
    "            count += 1\n",
    "        \n",
    "    else:\n",
    "        print('Algorithm not understood')\n",
    "        sys.exit(1)\n",
    "    \n",
    "    output = {}\n",
    "    output['Q'] = Q\n",
    "    output['energy'] = energy\n",
    "    output['eps'] = eps\n",
    "    return pd.DataFrame(output)"
   ]
  },
  {
   "cell_type": "code",
   "execution_count": 29,
   "metadata": {
    "ExecuteTime": {
     "end_time": "2019-04-30T13:14:22.785080Z",
     "start_time": "2019-04-30T13:14:22.773831Z"
    }
   },
   "outputs": [],
   "source": [
    "def cont(name, runs, levels=[0, 1, 4, 10, 40, 100]):\n",
    "    fig = plt.figure(name)\n",
    "    C = plt.contour(RX, RY, Z, levels=[0, 1, 4, 10, 40, 100])\n",
    "    plt.clabel(C, inline=1, fontsize=10)\n",
    "    for run in runs:\n",
    "        plt.plot(\n",
    "            run['Q'].apply(lambda x: x[0]), \n",
    "            run['Q'].apply(lambda x: x[1]))\n",
    "        plt.plot(\n",
    "            run['Q'].apply(lambda x: x[0]), \n",
    "            run['Q'].apply(lambda x: x[1]), 'k.')\n",
    "    plt.show()"
   ]
  }
 ],
 "metadata": {
  "kernelspec": {
   "display_name": "Python 3",
   "language": "python",
   "name": "python3"
  },
  "language_info": {
   "codemirror_mode": {
    "name": "ipython",
    "version": 3
   },
   "file_extension": ".py",
   "mimetype": "text/x-python",
   "name": "python",
   "nbconvert_exporter": "python",
   "pygments_lexer": "ipython3",
   "version": "3.7.3"
  },
  "varInspector": {
   "cols": {
    "lenName": 16,
    "lenType": 16,
    "lenVar": 40
   },
   "kernels_config": {
    "python": {
     "delete_cmd_postfix": "",
     "delete_cmd_prefix": "del ",
     "library": "var_list.py",
     "varRefreshCmd": "print(var_dic_list())"
    },
    "r": {
     "delete_cmd_postfix": ") ",
     "delete_cmd_prefix": "rm(",
     "library": "var_list.r",
     "varRefreshCmd": "cat(var_dic_list()) "
    }
   },
   "types_to_exclude": [
    "module",
    "function",
    "builtin_function_or_method",
    "instance",
    "_Feature"
   ],
   "window_display": false
  }
 },
 "nbformat": 4,
 "nbformat_minor": 2
}
