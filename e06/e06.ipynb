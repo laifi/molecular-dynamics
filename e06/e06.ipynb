{
 "cells": [
  {
   "cell_type": "code",
   "execution_count": 1,
   "metadata": {},
   "outputs": [],
   "source": [
    "%load_ext autoreload\n",
    "%autoreload 2"
   ]
  },
  {
   "cell_type": "code",
   "execution_count": 2,
   "metadata": {},
   "outputs": [],
   "source": [
    "import numpy as np\n",
    "import matplotlib.pyplot as plt\n",
    "import pandas as pd"
   ]
  },
  {
   "cell_type": "code",
   "execution_count": 3,
   "metadata": {},
   "outputs": [],
   "source": [
    "EXAMPLES = True"
   ]
  },
  {
   "cell_type": "markdown",
   "metadata": {},
   "source": [
    "# Simulation Data Analysis II"
   ]
  },
  {
   "cell_type": "markdown",
   "metadata": {},
   "source": [
    "1) We present the normed euclidean distance between the $\\chi_{1}$-angle of H294 in system A and B. The values were binned into 360 bins between -180 and 180."
   ]
  },
  {
   "cell_type": "code",
   "execution_count": 4,
   "metadata": {},
   "outputs": [],
   "source": [
    "def normed_euclidean_distance(x: np.ndarray, y: np.ndarray, axis=-1):\n",
    "    assert x.shape[axis] == y.shape[axis]\n",
    "    n = x.shape[axis]\n",
    "    \n",
    "    return (1/n) * np.sqrt(np.sum((x - y) ** 2, axis=axis))"
   ]
  },
  {
   "cell_type": "code",
   "execution_count": 5,
   "metadata": {},
   "outputs": [],
   "source": [
    "files = ['ignore/anglesA/chi1HIS97.xvg', 'ignore/anglesB/chi1HIS97.xvg']\n",
    "names = ['A', 'B']\n",
    "dfs = [pd.read_csv(f, \n",
    "                   header=None, \n",
    "                   names=['time', n],\n",
    "                   skiprows=17, \n",
    "                   index_col=0,\n",
    "                   delim_whitespace=True) for n, f in zip(names, files)]\n",
    "df = pd.concat(dfs, axis=1)"
   ]
  },
  {
   "cell_type": "code",
   "execution_count": 6,
   "metadata": {},
   "outputs": [
    {
     "data": {
      "text/plain": [
       "Text(0.5, 0, 'Chi1 (degree)')"
      ]
     },
     "execution_count": 6,
     "metadata": {},
     "output_type": "execute_result"
    },
    {
     "data": {
      "image/png": "[encoded data removed]",
      "text/plain": [
       "<Figure size 1080x360 with 1 Axes>"
      ]
     },
     "metadata": {
      "needs_background": "light"
     },
     "output_type": "display_data"
    }
   ],
   "source": [
    "bins = np.linspace(-180, 180, 360)\n",
    "fig = plt.figure(figsize=(15, 5))\n",
    "plt.hist([df['A'], df['B']], \n",
    "         density=True, \n",
    "         bins=bins, \n",
    "         histtype='bar') # 'barstacked'\n",
    "plt.title('Chi1 Histogram of system A and B')\n",
    "plt.legend(['A', 'B'])\n",
    "plt.ylabel('Normalized Histogram')\n",
    "plt.xlabel('Chi1 (degree)')"
   ]
  },
  {
   "cell_type": "code",
   "execution_count": 7,
   "metadata": {},
   "outputs": [],
   "source": [
    "bins = np.linspace(-180, 180, 360)\n",
    "B, _ = np.histogram(df['A'], bins=bins, density=True)\n",
    "A, _ = np.histogram(df['B'], bins=bins, density=True)"
   ]
  },
  {
   "cell_type": "code",
   "execution_count": 8,
   "metadata": {},
   "outputs": [
    {
     "name": "stdout",
     "output_type": "stream",
     "text": [
      "The normed euclidean distance between the chi1 angles in system A and B is 0.0003258786872811465.\n"
     ]
    }
   ],
   "source": [
    "delta = normed_euclidean_distance(A, B)\n",
    "print(f\"The normed euclidean distance between the chi1 angles in system A and B is {delta}.\")"
   ]
  },
  {
   "cell_type": "markdown",
   "metadata": {},
   "source": [
    "2) We estimate the Kullback-Leibler divergence between the histograms of the $\\chi_{1}$-angle of H294 in system A and B. Note that $\\ln(p)$ is not defined in areas where $p$ is zero or undefined. For this reason, we must restrict our calculation of the kl divergence to binned regions in which we have samples for both of our distributions (histograms)."
   ]
  },
  {
   "cell_type": "code",
   "execution_count": 9,
   "metadata": {},
   "outputs": [
    {
     "name": "stdout",
     "output_type": "stream",
     "text": [
      "14.20942306517852\n"
     ]
    }
   ],
   "source": [
    "def kl_divergence(p: np.ndarray, q: np.ndarray):\n",
    "    assert p.shape == q.shape\n",
    "    return np.sum(p * (np.log(p) - np.log(q)))\n",
    "\n",
    "if EXAMPLES:\n",
    "    # Generate samples\n",
    "    A = np.random.randn(10000)*0.5 + 1\n",
    "    B = np.random.rand(10000) # Note, this must cover the A dist.\n",
    "    \n",
    "    # they must be defined on the same region, so truncate the normal\n",
    "    bmax, bmin = B.max(), B.min()\n",
    "    A = np.array([i for i in A if (bmin < i) and (i < bmax)])\n",
    "    \n",
    "    # Find a density for the purposes of calculating kl_divergence\n",
    "    bins = np.linspace(bmin, bmax, num=100)\n",
    "    pA, _ = np.histogram(A, bins=bins, density=True)\n",
    "    pB, _ = np.histogram(B, bins=bins, density=True)\n",
    "    print(kl_divergence(pA, pB))"
   ]
  },
  {
   "cell_type": "markdown",
   "metadata": {},
   "source": [
    "3) Mutual Information"
   ]
  },
  {
   "cell_type": "code",
   "execution_count": 10,
   "metadata": {},
   "outputs": [
    {
     "name": "stdout",
     "output_type": "stream",
     "text": [
      "Independent case: 0.0\n",
      "Randomly Dependent case: 0.11917426248347907\n"
     ]
    }
   ],
   "source": [
    "def mutual_information(pxy: np.ndarray, px: np.ndarray, py: np.ndarray):\n",
    "    assert px.shape == py.shape\n",
    "    assert pxy.shape == (px.shape[0], py.shape[0])\n",
    "    \n",
    "    ln = np.log(pxy) - np.log(np.einsum('i,j', px, py))\n",
    "    return np.einsum('ij,ij', pxy, ln)\n",
    "\n",
    "# Simple Test.\n",
    "if EXAMPLES:\n",
    "    from scipy.special import softmax as softmax\n",
    "    pq = softmax(np.random.rand(3,3))\n",
    "    p = softmax(np.random.rand(3))\n",
    "    q = softmax(np.random.rand(3))\n",
    "    print(f\"Independent case: {mutual_information(np.einsum('i,j', p, q), p, q)}\")\n",
    "    print(f\"Randomly Dependent case: {mutual_information(pq, p, q)}\")"
   ]
  },
  {
   "cell_type": "code",
   "execution_count": 11,
   "metadata": {},
   "outputs": [
    {
     "name": "stdout",
     "output_type": "stream",
     "text": [
      "Independent case: 0.0\n",
      "Randomly Dependent case: 0.1261078659173065\n"
     ]
    }
   ],
   "source": [
    "def entropy(px: np.ndarray):\n",
    "    return -np.sum(px * np.log(px))\n",
    "\n",
    "def normalized_mutual_information(pxy: np.ndarray, px: np.ndarray, py: np.ndarray):\n",
    "    return mutual_information(pxy, px, py) / np.min([entropy(i) for i in [px, py]])\n",
    "\n",
    "# Simple Test.\n",
    "if EXAMPLES:\n",
    "    from scipy.special import softmax as softmax\n",
    "    pq = softmax(np.random.rand(3,3))\n",
    "    p = softmax(np.random.rand(3))\n",
    "    q = softmax(np.random.rand(3))\n",
    "    print(f\"Independent case: {normalized_mutual_information(np.einsum('i,j', p, q), p, q)}\")\n",
    "    print(f\"Randomly Dependent case: {normalized_mutual_information(pq, p, q)}\")"
   ]
  },
  {
   "cell_type": "code",
   "execution_count": 12,
   "metadata": {},
   "outputs": [],
   "source": [
    "files = ['ignore/anglesB/chi1HIS97.xvg', 'ignore/anglesB/chi2HIS97.xvg']\n",
    "names = ['chi1', 'chi2']\n",
    "dfs = [pd.read_csv(f, \n",
    "                   header=None, \n",
    "                   names=['time', n],\n",
    "                   skiprows=17, \n",
    "                   index_col=0,\n",
    "                   delim_whitespace=True) for n, f in zip(names, files)]\n",
    "df = pd.concat(dfs, axis=1)"
   ]
  }
 ],
 "metadata": {
  "kernelspec": {
   "display_name": "Python 3",
   "language": "python",
   "name": "python3"
  },
  "language_info": {
   "codemirror_mode": {
    "name": "ipython",
    "version": 3
   },
   "file_extension": ".py",
   "mimetype": "text/x-python",
   "name": "python",
   "nbconvert_exporter": "python",
   "pygments_lexer": "ipython3",
   "version": "3.7.3"
  }
 },
 "nbformat": 4,
 "nbformat_minor": 2
}
