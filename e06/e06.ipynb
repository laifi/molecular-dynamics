{
 "cells": [
  {
   "cell_type": "code",
   "execution_count": 1,
   "metadata": {},
   "outputs": [],
   "source": [
    "%load_ext autoreload\n",
    "%autoreload 2"
   ]
  },
  {
   "cell_type": "code",
   "execution_count": 2,
   "metadata": {},
   "outputs": [],
   "source": [
    "import numpy as np\n",
    "import matplotlib.pyplot as plt\n",
    "import pandas as pd"
   ]
  },
  {
   "cell_type": "code",
   "execution_count": 3,
   "metadata": {},
   "outputs": [],
   "source": [
    "EXAMPLES = False"
   ]
  },
  {
   "cell_type": "code",
   "execution_count": 4,
   "metadata": {},
   "outputs": [],
   "source": [
    "vmin = -180\n",
    "vmax = 180\n",
    "nbin = 360"
   ]
  },
  {
   "cell_type": "markdown",
   "metadata": {},
   "source": [
    "# Simulation Data Analysis II"
   ]
  },
  {
   "cell_type": "markdown",
   "metadata": {},
   "source": [
    "#### 1) Normalized Euclidean Distance\n",
    "We present the normed euclidean distance between the $\\chi_{1}$-angle of H294 in system A and B. The values were binned into 360 bins between -180 and 180."
   ]
  },
  {
   "cell_type": "code",
   "execution_count": 5,
   "metadata": {},
   "outputs": [],
   "source": [
    "def normed_euclidean_distance(x: np.ndarray, y: np.ndarray, axis=-1):\n",
    "    assert x.shape[axis] == y.shape[axis]\n",
    "    n = x.shape[axis]\n",
    "    \n",
    "    return (1/n) * np.sqrt(np.sum((x - y) ** 2, axis=axis))"
   ]
  },
  {
   "cell_type": "code",
   "execution_count": 6,
   "metadata": {},
   "outputs": [],
   "source": [
    "files = ['ignore/anglesA/chi1HIS97.xvg', 'ignore/anglesB/chi1HIS97.xvg']\n",
    "names = ['A', 'B']\n",
    "dfs = [pd.read_csv(f, \n",
    "                   header=None, \n",
    "                   names=['time', n],\n",
    "                   skiprows=17, \n",
    "                   index_col=0,\n",
    "                   delim_whitespace=True) for n, f in zip(names, files)]\n",
    "df = pd.concat(dfs, axis=1)"
   ]
  },
  {
   "cell_type": "code",
   "execution_count": 7,
   "metadata": {},
   "outputs": [
    {
     "data": {
      "text/plain": [
       "Text(0.5, 0, 'Chi1 (degree)')"
      ]
     },
     "execution_count": 7,
     "metadata": {},
     "output_type": "execute_result"
    },
    {
     "data": {
      "image/png": "[encoded data removed]",
      "text/plain": [
       "<Figure size 1080x360 with 1 Axes>"
      ]
     },
     "metadata": {
      "needs_background": "light"
     },
     "output_type": "display_data"
    }
   ],
   "source": [
    "bins = np.linspace(vmin, vmax, nbin)\n",
    "fig = plt.figure(figsize=(15, 5))\n",
    "plt.hist([df['A'], df['B']], \n",
    "         density=True, \n",
    "         bins=bins, \n",
    "         histtype='bar') # 'barstacked'\n",
    "plt.title('Chi1 Histogram of system A and B')\n",
    "plt.legend(['A', 'B'])\n",
    "plt.ylabel('Normalized Histogram')\n",
    "plt.xlabel('Chi1 (degree)')"
   ]
  },
  {
   "cell_type": "code",
   "execution_count": 8,
   "metadata": {},
   "outputs": [],
   "source": [
    "A, _ = np.histogram(df['A'], bins=nbin, range=(vmin, vmax), density=True)\n",
    "B, _ = np.histogram(df['B'], bins=nbin, range=(vmin, vmax), density=True)"
   ]
  },
  {
   "cell_type": "code",
   "execution_count": 9,
   "metadata": {},
   "outputs": [
    {
     "name": "stdout",
     "output_type": "stream",
     "text": [
      "The normed euclidean distance between the chi1 angles in system A and B is 0.0003256800752222079.\n"
     ]
    }
   ],
   "source": [
    "delta = normed_euclidean_distance(A, B)\n",
    "print(f\"The normed euclidean distance between the chi1 angles in system A and B is {delta}.\")"
   ]
  },
  {
   "cell_type": "markdown",
   "metadata": {},
   "source": [
    "#### 2) Kullback-Leibler Divergence\n",
    "\n",
    "We estimate the Kullback-Leibler divergence between the histograms of the $\\chi_{1}$-angle of H294 in system A and B. Note that $\\ln(p)$ is not defined in areas where $p$ is zero or undefined. For this reason, we must restrict our calculation of the kl divergence to binned regions in which we have samples for both of our distributions (histograms)."
   ]
  },
  {
   "cell_type": "code",
   "execution_count": 10,
   "metadata": {},
   "outputs": [],
   "source": [
    "def kl_divergence(p: np.ndarray, q: np.ndarray):\n",
    "    assert p.shape == q.shape\n",
    "    summand = p * (np.log(p) - np.log(q))\n",
    "    to_replace = np.logical_or(np.isnan(summand), np.isinf(summand))\n",
    "    summand[to_replace] = 0.0\n",
    "    return np.sum(summand)\n",
    "\n",
    "if EXAMPLES:\n",
    "    # Generate samples\n",
    "    A = np.random.randn(10000)*0.5 + 1\n",
    "    B = np.random.rand(10000) # Note, this must cover the A dist.\n",
    "    \n",
    "    # they must be defined on the same region, so truncate the normal\n",
    "    bmax, bmin = B.max(), B.min()\n",
    "    A = np.array([i for i in A if (bmin < i) and (i < bmax)])\n",
    "    \n",
    "    # Find a density for the purposes of calculating kl_divergence\n",
    "    bins = np.linspace(bmin, bmax, num=100)\n",
    "    pA, _ = np.histogram(A, bins=bins, density=True)\n",
    "    pB, _ = np.histogram(B, bins=bins, density=True)\n",
    "    print(kl_divergence(pA, pB))"
   ]
  },
  {
   "cell_type": "code",
   "execution_count": 11,
   "metadata": {},
   "outputs": [
    {
     "name": "stdout",
     "output_type": "stream",
     "text": [
      "The KL Divergence of Chi1 between system A and B is 0.27004855511543113\n"
     ]
    },
    {
     "name": "stderr",
     "output_type": "stream",
     "text": [
      "/storage/mi/milleb92/miniconda3/lib/python3.7/site-packages/ipykernel_launcher.py:3: RuntimeWarning: divide by zero encountered in log\n",
      "  This is separate from the ipykernel package so we can avoid doing imports until\n",
      "/storage/mi/milleb92/miniconda3/lib/python3.7/site-packages/ipykernel_launcher.py:3: RuntimeWarning: invalid value encountered in subtract\n",
      "  This is separate from the ipykernel package so we can avoid doing imports until\n",
      "/storage/mi/milleb92/miniconda3/lib/python3.7/site-packages/ipykernel_launcher.py:3: RuntimeWarning: invalid value encountered in multiply\n",
      "  This is separate from the ipykernel package so we can avoid doing imports until\n"
     ]
    }
   ],
   "source": [
    "kl = kl_divergence(A, B)\n",
    "print(f\"The KL Divergence of Chi1 between system A and B is {kl}\")"
   ]
  },
  {
   "cell_type": "markdown",
   "metadata": {},
   "source": [
    "#### 3) Mutual Information\n",
    "We present the mutual information and normalized mutual information between Chi1 and Chi2 angles in system B. Notice that the mutual information calculation is undefined within parts of the histogram without any samples. To avoid this problem, we do not consider those areas in our calculation."
   ]
  },
  {
   "cell_type": "code",
   "execution_count": 12,
   "metadata": {},
   "outputs": [],
   "source": [
    "def mutual_information(pxy: np.ndarray, px: np.ndarray, py: np.ndarray):\n",
    "    assert px.shape == py.shape\n",
    "    assert pxy.shape == (px.shape[0], py.shape[0])\n",
    "    \n",
    "    ln = np.log(pxy) - np.log(np.einsum('i,j', px, py))\n",
    "    to_replace = np.logical_or(np.isnan(ln), np.isinf(ln))\n",
    "    ln[to_replace] = 0.0\n",
    "    return np.einsum('ij,ij', pxy, ln)\n",
    "\n",
    "# Simple Test.\n",
    "if EXAMPLES:\n",
    "    from scipy.special import softmax as softmax\n",
    "    pq = softmax(np.random.rand(3,3))\n",
    "    p = softmax(np.random.rand(3))\n",
    "    q = softmax(np.random.rand(3))\n",
    "    print(f\"Independent case: {mutual_information(np.einsum('i,j', p, q), p, q)}\")\n",
    "    print(f\"Randomly Dependent case: {mutual_information(pq, p, q)}\")"
   ]
  },
  {
   "cell_type": "code",
   "execution_count": 13,
   "metadata": {},
   "outputs": [],
   "source": [
    "def entropy(px: np.ndarray):\n",
    "    ent = px * np.log(px)\n",
    "    to_replace = np.logical_or(np.isnan(ent), np.isinf(ent))\n",
    "    ent[to_replace] = 0.0\n",
    "    return -np.sum(ent)\n",
    "\n",
    "def normalized_mutual_information(pxy: np.ndarray, px: np.ndarray, py: np.ndarray):\n",
    "    return mutual_information(pxy, px, py) / np.min([entropy(i) for i in [px, py]])\n",
    "\n",
    "# Simple Test.\n",
    "if EXAMPLES:\n",
    "    print(f\"Normalized Independent case: \"\n",
    "          f\"{normalized_mutual_information(np.einsum('i,j', p, q), p, q)}\")\n",
    "    print(f\"Normalized Randomly Dependent case: \"\n",
    "          f\"{normalized_mutual_information(pq, p, q)}\")"
   ]
  },
  {
   "cell_type": "code",
   "execution_count": 14,
   "metadata": {},
   "outputs": [],
   "source": [
    "files = ['ignore/anglesB/chi1HIS97.xvg', 'ignore/anglesB/chi2HIS97.xvg']\n",
    "names = ['chi1', 'chi2']\n",
    "dfs = [pd.read_csv(f, \n",
    "                   header=None, \n",
    "                   names=['time', n],\n",
    "                   skiprows=17, \n",
    "                   index_col=0,\n",
    "                   delim_whitespace=True) for n, f in zip(names, files)]\n",
    "df = pd.concat(dfs, axis=1)"
   ]
  },
  {
   "cell_type": "code",
   "execution_count": 15,
   "metadata": {},
   "outputs": [
    {
     "data": {
      "text/plain": [
       "Text(0.5, 0, 'Chi1 or Chi2 (degree)')"
      ]
     },
     "execution_count": 15,
     "metadata": {},
     "output_type": "execute_result"
    },
    {
     "data": {
      "image/png": "[encoded data removed]",
      "text/plain": [
       "<Figure size 1080x360 with 1 Axes>"
      ]
     },
     "metadata": {
      "needs_background": "light"
     },
     "output_type": "display_data"
    }
   ],
   "source": [
    "bins = np.linspace(-180, 180, 360)\n",
    "fig = plt.figure(figsize=(15, 5))\n",
    "plt.hist([df['chi1'], df['chi2']], \n",
    "         density=True, \n",
    "         bins=bins, \n",
    "         histtype='bar') # 'barstacked'\n",
    "plt.title('Chi1 and Chi2 Histogram in system B')\n",
    "plt.legend(['Chi1', 'Chi2'])\n",
    "plt.ylabel('Normalized Histogram')\n",
    "plt.xlabel('Chi1 or Chi2 (degree)')"
   ]
  },
  {
   "cell_type": "code",
   "execution_count": 16,
   "metadata": {},
   "outputs": [],
   "source": [
    "AB, b1, b2 = np.histogram2d(df['chi1'], df['chi2'], \n",
    "                            bins=(nbin, nbin), range=((vmin, vmax), (vmin, vmax)), \n",
    "                            density=True)\n",
    "A, bb1 = np.histogram(df['chi1'], bins=nbin, range=(vmin, vmax), density=True)\n",
    "B, bb2 = np.histogram(df['chi2'], bins=nbin, range=(vmin, vmax), density=True)"
   ]
  },
  {
   "cell_type": "code",
   "execution_count": 17,
   "metadata": {},
   "outputs": [
    {
     "name": "stdout",
     "output_type": "stream",
     "text": [
      "The mutual information between Chi1 and Chi2 is 0.43215873905877533\n",
      "The normalized mutual information is 0.11620572513759658\n"
     ]
    },
    {
     "name": "stderr",
     "output_type": "stream",
     "text": [
      "/storage/mi/milleb92/miniconda3/lib/python3.7/site-packages/ipykernel_launcher.py:5: RuntimeWarning: divide by zero encountered in log\n",
      "  \"\"\"\n",
      "/storage/mi/milleb92/miniconda3/lib/python3.7/site-packages/ipykernel_launcher.py:5: RuntimeWarning: invalid value encountered in subtract\n",
      "  \"\"\"\n",
      "/storage/mi/milleb92/miniconda3/lib/python3.7/site-packages/ipykernel_launcher.py:2: RuntimeWarning: divide by zero encountered in log\n",
      "  \n",
      "/storage/mi/milleb92/miniconda3/lib/python3.7/site-packages/ipykernel_launcher.py:2: RuntimeWarning: invalid value encountered in multiply\n",
      "  \n"
     ]
    }
   ],
   "source": [
    "print(f'The mutual information between Chi1 and Chi2 is {mutual_information(AB, A, B)}')\n",
    "print(f'The normalized mutual information is {normalized_mutual_information(AB, A, B)}')"
   ]
  },
  {
   "cell_type": "markdown",
   "metadata": {},
   "source": [
    "#### 4) Coupling Constants\n",
    "For this problem, we have to consider that the statistical and standard errors add in quadrature when considering the accuracy of each calculation method.\n",
    "\n",
    "We find that the Bax prediction is more accurate, but only by a very small amount. In case \"1\" the Schmidt prediction was nearly outside the margin of error of the experimental value; however, in all other cases the Bax and Schmidt predictions were within the margin of error. For this reason, Bax is probably more accurate."
   ]
  },
  {
   "cell_type": "code",
   "execution_count": 18,
   "metadata": {},
   "outputs": [],
   "source": [
    "def karplus(phi: np.ndarray, A, B, C):\n",
    "    return A * np.cos(phi - 1/3*np.pi)**2 + B * np.cos(phi - 1/3*np.pi) + C\n",
    "schmidt = (7.6, -1.05, 0.65)\n",
    "schmidt_error = 0.78\n",
    "bax = (7.09, -1.42, 1.55)\n",
    "bax_error = 0.30"
   ]
  },
  {
   "cell_type": "code",
   "execution_count": 19,
   "metadata": {},
   "outputs": [],
   "source": [
    "files = [f'dropbox/{i}.ascii' for i in range(1, 6)]\n",
    "names = [str(i) for i in range(1, 6)]\n",
    "dfs = [pd.read_csv(f, header=None, names=[n]) for n, f in zip(names, files)]\n",
    "df = pd.concat(dfs, axis=1)\n",
    "df = df * np.pi/180."
   ]
  },
  {
   "cell_type": "code",
   "execution_count": 20,
   "metadata": {},
   "outputs": [],
   "source": [
    "schmidt_df = df.apply(lambda x: karplus(x, *schmidt))\n",
    "bax_df = df.apply(lambda x: karplus(x, *bax))"
   ]
  },
  {
   "cell_type": "code",
   "execution_count": 21,
   "metadata": {},
   "outputs": [],
   "source": [
    "experi = pd.read_csv('dropbox/experimental.dat', names=['idx', 'mean', 'std'],\n",
    "                     index_col=0, delim_whitespace=True)"
   ]
  },
  {
   "cell_type": "code",
   "execution_count": 22,
   "metadata": {},
   "outputs": [
    {
     "data": {
      "text/plain": [
       "<matplotlib.legend.Legend at 0x7f5eef054518>"
      ]
     },
     "execution_count": 22,
     "metadata": {},
     "output_type": "execute_result"
    },
    {
     "data": {
      "image/png": "[encoded data removed]",
      "text/plain": [
       "<Figure size 720x360 with 1 Axes>"
      ]
     },
     "metadata": {
      "needs_background": "light"
     },
     "output_type": "display_data"
    }
   ],
   "source": [
    "ind = np.arange(len(names))\n",
    "width = 0.75\n",
    "\n",
    "fig, ax = plt.subplots(figsize=(10,5))\n",
    "r1 = ax.bar(ind - width/3, schmidt_df.mean(), width/3, \n",
    "            yerr=np.sqrt(schmidt_df.std()**2 + schmidt_error**2), \n",
    "            label='schmidt')\n",
    "r2 = ax.bar(ind , bax_df.mean(), width/3, \n",
    "            yerr=np.sqrt(bax_df.std()**2 + bax_error**2), \n",
    "            label='bax')\n",
    "r3 = ax.bar(ind + width/3, experi['mean'], width/3, \n",
    "            yerr=experi['std'], \n",
    "            label='Experiment')\n",
    "\n",
    "ax.set_ylabel('J Coupling (Hz)')\n",
    "ax.set_xlabel('Name of Data')\n",
    "ax.set_title('Bar plot with ')\n",
    "ax.set_xticks(ind)\n",
    "ax.set_xticklabels(names)\n",
    "ax.legend()"
   ]
  },
  {
   "cell_type": "code",
   "execution_count": null,
   "metadata": {},
   "outputs": [],
   "source": []
  }
 ],
 "metadata": {
  "kernelspec": {
   "display_name": "Python 3",
   "language": "python",
   "name": "python3"
  },
  "language_info": {
   "codemirror_mode": {
    "name": "ipython",
    "version": 3
   },
   "file_extension": ".py",
   "mimetype": "text/x-python",
   "name": "python",
   "nbconvert_exporter": "python",
   "pygments_lexer": "ipython3",
   "version": "3.7.3"
  }
 },
 "nbformat": 4,
 "nbformat_minor": 2
}
