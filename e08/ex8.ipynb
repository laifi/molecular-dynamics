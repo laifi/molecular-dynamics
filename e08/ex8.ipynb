{
 "cells": [
  {
   "cell_type": "code",
   "execution_count": 1,
   "metadata": {},
   "outputs": [],
   "source": [
    "import numpy as np\n",
    "import random\n",
    "import matplotlib.pyplot as plt"
   ]
  },
  {
   "cell_type": "markdown",
   "metadata": {},
   "source": [
    "## Exercise 08 - Monte Carlo simulation"
   ]
  },
  {
   "cell_type": "markdown",
   "metadata": {},
   "source": [
    "#### 8.1) Lennard-Jones Potential"
   ]
  },
  {
   "cell_type": "code",
   "execution_count": 2,
   "metadata": {},
   "outputs": [],
   "source": [
    "#constants\n",
    "epsilon = 1.77\n",
    "rm = 0.41\n",
    "\n",
    "T = 10                        # temperature\n",
    "k = 1.38064852*10**-23        # Boltzmann constant\n",
    "beta = 1/k*T                  # Boltzmann factor\n",
    "\n",
    "r_start = 0.1\n",
    "iterations = 100\n",
    "\n",
    "\n",
    "# variables\n",
    "r_temp = 0                     # trial value\n",
    "xi = 0                         # random uniform number\n",
    "delta_U = 0                    # energy difference\n",
    "accepted_steps = 0             # number of steps accepted\n",
    "\n",
    "\n",
    "# Lennard-Jones potential for a Xe – Xe interaction\n",
    "def U(r):\n",
    "    return epsilon*((rm/r)**12-2*(rm/r)**6)"
   ]
  },
  {
   "cell_type": "code",
   "execution_count": 3,
   "metadata": {},
   "outputs": [
    {
     "name": "stdout",
     "output_type": "stream",
     "text": [
      "Step size 0.001\n",
      "Acceptance ratio 0.44\n",
      "\n",
      "Step size 0.002\n",
      "Acceptance ratio 0.51\n",
      "\n",
      "Step size 0.003\n",
      "Acceptance ratio 0.44\n",
      "\n",
      "Step size 0.004\n",
      "Acceptance ratio 0.56\n",
      "\n",
      "Step size 0.005\n",
      "Acceptance ratio 0.22\n",
      "\n",
      "Step size 0.006\n",
      "Acceptance ratio 0.01\n",
      "\n",
      "Step size 0.007\n",
      "Acceptance ratio 0.0\n",
      "\n",
      "Step size 0.008\n",
      "Acceptance ratio 0.0\n",
      "\n"
     ]
    }
   ],
   "source": [
    "r = r_start\n",
    "\n",
    "for step in np.arange(0.001, 0.009, 0.001):\n",
    "    \n",
    "    accepted_steps = 0\n",
    "    \n",
    "    for i in range(iterations):\n",
    "\n",
    "        # Draw a trial value r'(s+1) as a symmetric displacement of r(s) \n",
    "        xi = random.uniform(0., 1.)\n",
    "        r_temp = r + (2*xi -1)*step\n",
    "\n",
    "        # Evaluate the energy difference\n",
    "        delta_U = U(r_temp) - U(r)\n",
    "\n",
    "        # Draw another uniform random number and evaluate\n",
    "        xi = random.uniform(0., 1.)\n",
    "        if(xi < np.exp(-beta*delta_U)):\n",
    "            r = r_temp\n",
    "            accepted_steps += 1\n",
    "    \n",
    "        \n",
    "    acceptance_ratio = accepted_steps/iterations\n",
    "    print(\"Step size \" + str(step))\n",
    "    print(\"Acceptance ratio \" + str(acceptance_ratio) + \"\\n\")\n",
    "    \n",
    "    "
   ]
  },
  {
   "cell_type": "code",
   "execution_count": 4,
   "metadata": {},
   "outputs": [],
   "source": [
    "# repeat function above using temperature range\n",
    "\n",
    "T_array = np.array([5,40,80])\n",
    "\n",
    "step = 0.003 # reasonable value as determined previously \n",
    "\n",
    "for T in T_array:\n",
    "    \n",
    "    beta = 1/k*T\n",
    "    \n",
    "    r_array = np.empty(iterations)\n",
    "    \n",
    "    r = r_start\n",
    "    \n",
    "    for i in range(iterations):\n",
    "\n",
    "        # Draw a trial value r'(s+1) as a symmetric displacement of r(s) \n",
    "        xi = random.uniform(0., 1.)\n",
    "        r_temp = r + (2*xi -1)*step\n",
    "\n",
    "        # Evaluate the energy difference\n",
    "        delta_U = U(r_temp) - U(r)\n",
    "\n",
    "        # Draw another uniform random number and evaluate\n",
    "        xi = random.uniform(0., 1.)\n",
    "        if(xi < np.exp(-beta*delta_U)):\n",
    "            r = r_temp\n",
    "            accepted_steps += 1\n",
    "        \n",
    "        r_array[i] = r\n",
    "        "
   ]
  },
  {
   "cell_type": "markdown",
   "metadata": {},
   "source": [
    "#### 8.2) 2D-potential\n",
    "\n",
    "First we show the potential landscape and the corresponding distribution. Afterwards we will answers the questions.\n",
    "\n",
    "For this problem, since the units of the potential were not given, we assume that it has units of $k_{B}T$. For the final question, we will consider different temperature values by varying a coefficient."
   ]
  },
  {
   "cell_type": "code",
   "execution_count": 5,
   "metadata": {},
   "outputs": [],
   "source": [
    "def U(x, y):\n",
    "    return np.square(x**2 - 1) + (x - y) + y**2\n",
    "\n",
    "def uu(xx):\n",
    "    \"\"\"Wrapper for an np.ndarray. xx[..., 0] = x, xx[..., 1] = y\"\"\"\n",
    "    return U(xx[..., 0], xx[..., 1])"
   ]
  },
  {
   "cell_type": "code",
   "execution_count": 6,
   "metadata": {
    "scrolled": true
   },
   "outputs": [
    {
     "data": {
      "image/png": "[encoded data removed]",
      "text/plain": [
       "<Figure size 432x288 with 1 Axes>"
      ]
     },
     "metadata": {
      "needs_background": "light"
     },
     "output_type": "display_data"
    }
   ],
   "source": [
    "endpt = 2.5\n",
    "numpt = 100\n",
    "\n",
    "xx = np.linspace(-endpt, endpt, numpt)\n",
    "yy = np.linspace(-endpt, endpt, numpt)\n",
    "x, y = np.meshgrid(xx, yy)\n",
    "z = U(x, y)\n",
    "\n",
    "fig, ax = plt.subplots()\n",
    "ax.contourf(x, y, z, levels=20)\n",
    "ax.set_title(\"Contour plot of Energy Landscape\")\n",
    "ax.set_xlabel(\"x\")\n",
    "ax.set_ylabel(\"y\")\n",
    "plt.show()"
   ]
  },
  {
   "cell_type": "code",
   "execution_count": 7,
   "metadata": {},
   "outputs": [],
   "source": [
    "def Boltzmann(x, y, beta=1.0):\n",
    "    return np.exp(-beta * U(x, y))\n",
    "\n",
    "def boltzmann(xx, beta=1.0):\n",
    "    \"\"\"Wrapper for an np.ndarray. xx[..., 0] = x, xx[..., 1] = y\"\"\"\n",
    "    return Boltzmann(xx[..., 0], xx[..., 1], beta=1.0)"
   ]
  },
  {
   "cell_type": "code",
   "execution_count": 8,
   "metadata": {},
   "outputs": [
    {
     "data": {
      "image/png": "[encoded data removed]",
      "text/plain": [
       "<Figure size 432x288 with 1 Axes>"
      ]
     },
     "metadata": {
      "needs_background": "light"
     },
     "output_type": "display_data"
    }
   ],
   "source": [
    "z = Boltzmann(x, y, beta=1.0)\n",
    "\n",
    "fig, ax = plt.subplots()\n",
    "ax.contourf(x, y, z, levels=20)\n",
    "ax.set_title(\"Boltzmann Distribution\")\n",
    "ax.set_xlabel(\"x\")\n",
    "ax.set_ylabel(\"y\")\n",
    "plt.show()"
   ]
  },
  {
   "cell_type": "markdown",
   "metadata": {},
   "source": [
    "Metropolis MCMC for sampling."
   ]
  },
  {
   "cell_type": "code",
   "execution_count": 9,
   "metadata": {},
   "outputs": [],
   "source": [
    "def metropolis(state, step_size=1.0, beta=1.0):\n",
    "    step = (2 * np.random.rand(*state.shape) - 1) * step_size\n",
    "    proposal = state + step\n",
    "    diff = uu(proposal) - uu(state)\n",
    "    if diff <= 0 or (np.random.rand() < np.exp(-beta * diff)):\n",
    "        return proposal\n",
    "    else:\n",
    "        return state\n",
    "    \n",
    "def mcmc(initial_state, steps, step_size=1.0, beta=1.0):\n",
    "    states = [initial_state]\n",
    "    for _ in range(steps):\n",
    "        state = metropolis(states[-1], step_size=step_size, beta=beta)\n",
    "        states.append(state)\n",
    "    return np.asarray(states)"
   ]
  },
  {
   "cell_type": "code",
   "execution_count": 10,
   "metadata": {},
   "outputs": [],
   "source": [
    "states = mcmc(np.array([0.0, 0.0]), 10000)"
   ]
  },
  {
   "cell_type": "code",
   "execution_count": 11,
   "metadata": {},
   "outputs": [
    {
     "data": {
      "image/png": "[encoded data removed]",
      "text/plain": [
       "<Figure size 432x288 with 1 Axes>"
      ]
     },
     "metadata": {
      "needs_background": "light"
     },
     "output_type": "display_data"
    }
   ],
   "source": [
    "fig, ax = plt.subplots()\n",
    "ax.scatter(*states.T)\n",
    "ax.set_title(\"Samples from MCMC\")\n",
    "ax.set_xlabel(\"x\")\n",
    "ax.set_ylabel(\"y\")\n",
    "plt.show()"
   ]
  },
  {
   "cell_type": "markdown",
   "metadata": {},
   "source": [
    "Step size and effect on acceptance ratio. As step size decreases, we accept more proposals; however, we do not get good \"mixing.\" Mixing colloquially means visiting a significant portion of the distribution with high regularity."
   ]
  },
  {
   "cell_type": "code",
   "execution_count": 12,
   "metadata": {},
   "outputs": [],
   "source": [
    "def acceptance(samples):\n",
    "    accepted = []\n",
    "    for i in range(len(samples)):\n",
    "        try:\n",
    "            if np.all(np.equal(samples[i], samples[i+1])):\n",
    "                accepted.append(False)\n",
    "            else:\n",
    "                accepted.append(True)\n",
    "        except IndexError:\n",
    "            break\n",
    "    return accepted\n",
    "\n",
    "def acceptance_ratio(samples):\n",
    "    arr = acceptance(samples)\n",
    "    return sum(arr)/len(arr)"
   ]
  },
  {
   "cell_type": "code",
   "execution_count": 13,
   "metadata": {},
   "outputs": [],
   "source": [
    "ar = []\n",
    "delta = np.linspace(0.01, 0.5, 25)\n",
    "for d in delta:\n",
    "    smps = mcmc(np.array([0.0, 0.0]), 10000, step_size=d)\n",
    "    ar.append(acceptance_ratio(smps))"
   ]
  },
  {
   "cell_type": "code",
   "execution_count": 14,
   "metadata": {},
   "outputs": [
    {
     "data": {
      "image/png": "[encoded data removed]",
      "text/plain": [
       "<Figure size 432x288 with 1 Axes>"
      ]
     },
     "metadata": {
      "needs_background": "light"
     },
     "output_type": "display_data"
    }
   ],
   "source": [
    "fig, ax = plt.subplots()\n",
    "ax.plot(delta, ar)\n",
    "ax.set_title(\"Acceptance Ratio versus Step Size\")\n",
    "ax.set_xlabel(\"Delta\")\n",
    "ax.set_ylabel(\"Acceptance Ratio\")\n",
    "plt.show()"
   ]
  },
  {
   "cell_type": "code",
   "execution_count": null,
   "metadata": {},
   "outputs": [],
   "source": []
  }
 ],
 "metadata": {
  "kernelspec": {
   "display_name": "Python 3",
   "language": "python",
   "name": "python3"
  },
  "language_info": {
   "codemirror_mode": {
    "name": "ipython",
    "version": 3
   },
   "file_extension": ".py",
   "mimetype": "text/x-python",
   "name": "python",
   "nbconvert_exporter": "python",
   "pygments_lexer": "ipython3",
   "version": "3.7.3"
  }
 },
 "nbformat": 4,
 "nbformat_minor": 2
}
