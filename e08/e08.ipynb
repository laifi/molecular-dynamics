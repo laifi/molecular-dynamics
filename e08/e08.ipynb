{
 "cells": [
  {
   "cell_type": "code",
   "execution_count": null,
   "metadata": {},
   "outputs": [],
   "source": [
    "import numpy as np\n",
    "import matplotlib.pyplot as plt"
   ]
  },
  {
   "cell_type": "markdown",
   "metadata": {},
   "source": [
    "## Exercise 08 - Monte Carlo simulation"
   ]
  },
  {
   "cell_type": "markdown",
   "metadata": {},
   "source": [
    "#### 8.1) Lennard-Jones Potential"
   ]
  },
  {
   "cell_type": "code",
   "execution_count": null,
   "metadata": {},
   "outputs": [],
   "source": []
  },
  {
   "cell_type": "markdown",
   "metadata": {},
   "source": [
    "#### 8.2) 2D-potential\n",
    "\n",
    "First we show the potential landscape and the corresponding distribution. Afterwards we will answers the questions.\n",
    "\n",
    "For this problem, since the units of the potential were not given, we assume that it has units of $k_{B}T$. For the final question, we will consider different temperature values by varying a coefficient."
   ]
  },
  {
   "cell_type": "code",
   "execution_count": null,
   "metadata": {},
   "outputs": [],
   "source": [
    "def U(x, y):\n",
    "    return np.square(x**2 - 1) + (x - y) + y**2\n",
    "\n",
    "def uu(xx):\n",
    "    \"\"\"Wrapper for an np.ndarray. xx[..., 0] = x, xx[..., 1] = y\"\"\"\n",
    "    return U(xx[..., 0], xx[..., 1])"
   ]
  },
  {
   "cell_type": "code",
   "execution_count": null,
   "metadata": {},
   "outputs": [],
   "source": [
    "endpt = 2.5\n",
    "numpt = 100\n",
    "\n",
    "xx = np.linspace(-endpt, endpt, numpt)\n",
    "yy = np.linspace(-endpt, endpt, numpt)\n",
    "x, y = np.meshgrid(xx, yy)\n",
    "z = U(x, y)\n",
    "\n",
    "fig, ax = plt.subplots()\n",
    "ax.contourf(x, y, z, levels=20)\n",
    "ax.set_title(\"Contour plot of Energy Landscape\")\n",
    "ax.set_xlabel(\"x\")\n",
    "ax.set_ylabel(\"y\")\n",
    "plt.show()"
   ]
  },
  {
   "cell_type": "code",
   "execution_count": null,
   "metadata": {},
   "outputs": [],
   "source": [
    "def Boltzmann(x, y, beta=1.0):\n",
    "    return np.exp(-beta * U(x, y))\n",
    "\n",
    "def boltzmann(xx, beta=1.0):\n",
    "    \"\"\"Wrapper for an np.ndarray. xx[..., 0] = x, xx[..., 1] = y\"\"\"\n",
    "    return Boltzmann(xx[..., 0], xx[..., 1], beta=1.0)"
   ]
  },
  {
   "cell_type": "code",
   "execution_count": null,
   "metadata": {},
   "outputs": [],
   "source": [
    "z = Boltzmann(x, y, beta=1.0)\n",
    "\n",
    "fig, ax = plt.subplots()\n",
    "ax.contourf(x, y, z, levels=20)\n",
    "ax.set_title(\"Boltzmann Distribution\")\n",
    "ax.set_xlabel(\"x\")\n",
    "ax.set_ylabel(\"y\")\n",
    "plt.show()"
   ]
  },
  {
   "cell_type": "markdown",
   "metadata": {},
   "source": [
    "Metropolis MCMC for sampling."
   ]
  },
  {
   "cell_type": "code",
   "execution_count": null,
   "metadata": {},
   "outputs": [],
   "source": [
    "def metropolis(state, step_size=1.0, beta=1.0):\n",
    "    step = (2 * np.random.rand(*state.shape) - 1) * step_size\n",
    "    proposal = state + step\n",
    "    diff = uu(proposal) - uu(state)\n",
    "    if diff <= 0 or (np.random.rand() < np.exp(-beta * diff)):\n",
    "        return proposal\n",
    "    else:\n",
    "        return state\n",
    "    \n",
    "def mcmc(initial_state, steps, step_size=1.0, beta=1.0):\n",
    "    states = [initial_state]\n",
    "    for _ in range(steps):\n",
    "        state = metropolis(states[-1], step_size=step_size, beta=beta)\n",
    "        states.append(state)\n",
    "    return np.asarray(states)"
   ]
  },
  {
   "cell_type": "code",
   "execution_count": null,
   "metadata": {},
   "outputs": [],
   "source": [
    "states = mcmc(np.array([0.0, 0.0]), 10000)"
   ]
  },
  {
   "cell_type": "code",
   "execution_count": null,
   "metadata": {},
   "outputs": [],
   "source": [
    "fig, ax = plt.subplots()\n",
    "ax.scatter(*states.T)\n",
    "ax.set_title(\"Samples from MCMC\")\n",
    "ax.set_xlabel(\"x\")\n",
    "ax.set_ylabel(\"y\")\n",
    "plt.show()"
   ]
  },
  {
   "cell_type": "code",
   "execution_count": null,
   "metadata": {},
   "outputs": [],
   "source": [
    "fig, ax = plt.subplots()\n",
    "ax.hist2d(*states.T, bins=30, normed=True, range=((-endpt, endpt), (-endpt, endpt)))\n",
    "ax.set_title(\"Histogram from MCMC\")\n",
    "ax.set_xlabel(\"x\")\n",
    "ax.set_ylabel(\"y\")\n",
    "plt.show()"
   ]
  },
  {
   "cell_type": "markdown",
   "metadata": {},
   "source": [
    "Step size and effect on acceptance ratio. As step size decreases, we accept more proposals; however, we do not get good \"mixing.\" Mixing colloquially means visiting a significant portion of the distribution with high regularity."
   ]
  },
  {
   "cell_type": "code",
   "execution_count": null,
   "metadata": {},
   "outputs": [],
   "source": [
    "def acceptance(samples):\n",
    "    accepted = []\n",
    "    for i in range(len(samples)):\n",
    "        try:\n",
    "            if np.all(np.equal(samples[i], samples[i+1])):\n",
    "                accepted.append(False)\n",
    "            else:\n",
    "                accepted.append(True)\n",
    "        except IndexError:\n",
    "            break\n",
    "    return accepted\n",
    "\n",
    "def acceptance_ratio(samples):\n",
    "    arr = acceptance(samples)\n",
    "    return sum(arr)/len(arr)"
   ]
  },
  {
   "cell_type": "code",
   "execution_count": null,
   "metadata": {},
   "outputs": [],
   "source": [
    "ar = []\n",
    "delta = np.linspace(0.01, 1.0, 25)\n",
    "for d in delta:\n",
    "    smps = mcmc(np.array([0.0, 0.0]), 10000, step_size=d)\n",
    "    ar.append(acceptance_ratio(smps))"
   ]
  },
  {
   "cell_type": "code",
   "execution_count": null,
   "metadata": {},
   "outputs": [],
   "source": [
    "fig, ax = plt.subplots()\n",
    "ax.plot(delta, ar)\n",
    "ax.set_title(\"Acceptance Ratio versus Step Size\")\n",
    "ax.set_xlabel(\"Delta\")\n",
    "ax.set_ylabel(\"Acceptance Ratio\")\n",
    "plt.show()"
   ]
  },
  {
   "cell_type": "markdown",
   "metadata": {},
   "source": [
    "We alter the temperature by altering the $\\beta$ coefficient. As stated above, there are no units for this energy, so we select $\\beta$ between 1.0 and 0.25. This represents a temperature change of 4 times the initial temperature. We have already calculated $\\beta$=1.0 above. "
   ]
  },
  {
   "cell_type": "code",
   "execution_count": null,
   "metadata": {},
   "outputs": [],
   "source": [
    "beta = 0.75\n",
    "smps = mcmc(np.array([0.0, 0.0]), 10000, step_size=1.0, beta=beta)"
   ]
  },
  {
   "cell_type": "code",
   "execution_count": null,
   "metadata": {},
   "outputs": [],
   "source": [
    "fig, ax = plt.subplots()\n",
    "ax.hist2d(*smps.T, bins=30, normed=True, range=((-endpt, endpt), (-endpt, endpt)))\n",
    "ax.set_title(f\"Histogram from MCMC with beta={beta}\")\n",
    "ax.set_xlabel(\"x\")\n",
    "ax.set_ylabel(\"y\")\n",
    "plt.show()"
   ]
  },
  {
   "cell_type": "code",
   "execution_count": null,
   "metadata": {},
   "outputs": [],
   "source": [
    "beta = 0.5\n",
    "smps = mcmc(np.array([0.0, 0.0]), 10000, step_size=1.0, beta=beta)"
   ]
  },
  {
   "cell_type": "code",
   "execution_count": null,
   "metadata": {},
   "outputs": [],
   "source": [
    "fig, ax = plt.subplots()\n",
    "ax.hist2d(*smps.T, bins=30, normed=True, range=((-endpt, endpt), (-endpt, endpt)))\n",
    "ax.set_title(f\"Histogram from MCMC with beta={beta}\")\n",
    "ax.set_xlabel(\"x\")\n",
    "ax.set_ylabel(\"y\")\n",
    "plt.show()"
   ]
  },
  {
   "cell_type": "code",
   "execution_count": null,
   "metadata": {},
   "outputs": [],
   "source": [
    "beta = 0.25\n",
    "smps = mcmc(np.array([0.0, 0.0]), 10000, step_size=1.0, beta=beta)"
   ]
  },
  {
   "cell_type": "code",
   "execution_count": null,
   "metadata": {},
   "outputs": [],
   "source": [
    "fig, ax = plt.subplots()\n",
    "ax.hist2d(*smps.T, bins=30, normed=True, range=((-endpt, endpt), (-endpt, endpt)))\n",
    "ax.set_title(f\"Histogram from MCMC with beta={beta}\")\n",
    "ax.set_xlabel(\"x\")\n",
    "ax.set_ylabel(\"y\")\n",
    "plt.show()"
   ]
  },
  {
   "cell_type": "markdown",
   "metadata": {},
   "source": [
    "Now we calculate the population of the minimum energy state (-1.1, 0.5) as a function of 1/$\\beta$. We are using the density parameter with the same range, so it really is a probability of occupancy."
   ]
  },
  {
   "cell_type": "code",
   "execution_count": null,
   "metadata": {},
   "outputs": [],
   "source": [
    "h, x, y = np.histogram2d(*smps.T, bins=30, normed=True, range=((-endpt, endpt), (-endpt, endpt)))\n",
    "print(f\"Left and bottom edges ({x[8]:.2f}, {y[18]}) \")\n",
    "print(f\"Occupation of state {h[8, 18]}\")"
   ]
  },
  {
   "cell_type": "code",
   "execution_count": null,
   "metadata": {},
   "outputs": [],
   "source": [
    "occu = []\n",
    "beta = np.linspace(0.25, 1.0, 25)\n",
    "for b in beta:\n",
    "    smps = mcmc(np.array([0.0, 0.0]), 50000, step_size=1.0, beta=b)\n",
    "    h, x, y = np.histogram2d(*smps.T, bins=30, normed=True, range=((-endpt, endpt), (-endpt, endpt)))\n",
    "    occu.append(h[8, 18])"
   ]
  },
  {
   "cell_type": "code",
   "execution_count": null,
   "metadata": {},
   "outputs": [],
   "source": [
    "fig, ax = plt.subplots()\n",
    "ax.plot(1/beta, occu)\n",
    "ax.set_title(\"Occupation versus 1/beta\")\n",
    "ax.set_xlabel(\"1/beta\")\n",
    "ax.set_ylabel(\"Acceptance Ratio\")\n",
    "plt.show()"
   ]
  },
  {
   "cell_type": "code",
   "execution_count": null,
   "metadata": {},
   "outputs": [],
   "source": []
  }
 ],
 "metadata": {
  "kernelspec": {
   "display_name": "Python 3",
   "language": "python",
   "name": "python3"
  },
  "language_info": {
   "codemirror_mode": {
    "name": "ipython",
    "version": 3
   },
   "file_extension": ".py",
   "mimetype": "text/x-python",
   "name": "python",
   "nbconvert_exporter": "python",
   "pygments_lexer": "ipython3",
   "version": "3.6.8"
  }
 },
 "nbformat": 4,
 "nbformat_minor": 2
}
